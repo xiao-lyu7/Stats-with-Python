{
 "cells": [
  {
   "cell_type": "markdown",
   "metadata": {},
   "source": [
    "# Python_MultipleAssignments_1_print"
   ]
  },
  {
   "cell_type": "markdown",
   "metadata": {},
   "source": [
    "**Multiple Assignments:**\n",
    "    - used when you need to assign values to multiple variables.\n",
    "    - Here I provide a summary of how it can be used in print statements"
   ]
  },
  {
   "cell_type": "markdown",
   "metadata": {},
   "source": [
    "I summarized 6 ways:\n",
    "\n",
    "- 1. pass it as a tuple with: %s\n",
    "- 2. pass it as a dictionary\n",
    "- 3. concat strings\n",
    "- 4. pass the values as parameters\n",
    "- 5. use string formating: .format() \n",
    "- 6. use f- string in python 3.6 and above"
   ]
  },
  {
   "cell_type": "markdown",
   "metadata": {},
   "source": [
    "## 1. pass it as a tuple --- '%'"
   ]
  },
  {
   "cell_type": "code",
   "execution_count": 1,
   "metadata": {},
   "outputs": [
    {
     "name": "stdout",
     "output_type": "stream",
     "text": [
      "Solution 1: \n",
      "My name is Gerana and my age is 25\n"
     ]
    }
   ],
   "source": [
    "# simple\n",
    "\n",
    "name = 'Gerana'\n",
    "age = 25\n",
    "\n",
    "print('Solution 1: ')\n",
    "print('My name is %s and my age is %s' %(name, age))"
   ]
  },
  {
   "cell_type": "markdown",
   "metadata": {},
   "source": [
    "## 2. pass it as a dictionary ---  %(variable)s \n",
    "\n",
    "- need to assign variable names using a dictionary format"
   ]
  },
  {
   "cell_type": "code",
   "execution_count": 2,
   "metadata": {},
   "outputs": [
    {
     "name": "stdout",
     "output_type": "stream",
     "text": [
      "My name is Gerana and my age is 25\n"
     ]
    }
   ],
   "source": [
    "name = 'Gerana'\n",
    "age = 25\n",
    "\n",
    "print('My name is %(n)s and my age is %(m)s' % {'n': name, 'm': age})\n"
   ]
  },
  {
   "cell_type": "markdown",
   "metadata": {},
   "source": [
    "## 3. concat strings --- \"+\"\""
   ]
  },
  {
   "cell_type": "code",
   "execution_count": 3,
   "metadata": {},
   "outputs": [
    {
     "name": "stdout",
     "output_type": "stream",
     "text": [
      "My name is Geranaand my age is 25\n"
     ]
    }
   ],
   "source": [
    "name = 'Gerana'\n",
    "age = 25\n",
    "\n",
    "print('My name is ' + name + 'and my age is ' + str(age))  # need to convert number as str"
   ]
  },
  {
   "cell_type": "markdown",
   "metadata": {},
   "source": [
    "## 4. pass values as parameters"
   ]
  },
  {
   "cell_type": "code",
   "execution_count": 4,
   "metadata": {},
   "outputs": [
    {
     "name": "stdout",
     "output_type": "stream",
     "text": [
      "My name is Gerana and my age is 25\n",
      "My name is Gerana and my age is 25\n"
     ]
    }
   ],
   "source": [
    "name = 'Gerana'\n",
    "age = 25\n",
    "print('My name is', name, 'and my age is', age) # will automatically assign sapce\n",
    "print('My name is', name, 'and my age is', age, sep=' ') \n",
    "# if not want to be seperated with space automatically, use sep prameter"
   ]
  },
  {
   "cell_type": "markdown",
   "metadata": {},
   "source": [
    "## 5. placeholders - format( ) \n",
    "\n",
    "- empty indexes:{}, \n",
    "- named indexes: {index_name}\n",
    "- numbered indexes:{0-9}\n",
    "\n"
   ]
  },
  {
   "cell_type": "code",
   "execution_count": 5,
   "metadata": {},
   "outputs": [
    {
     "name": "stdout",
     "output_type": "stream",
     "text": [
      "My name is Gerana and my age is 25\n"
     ]
    }
   ],
   "source": [
    "# approach 1: empty indexes:{}\n",
    "\n",
    "name = 'Gerana'\n",
    "age = 25\n",
    "print('My name is {} and my age is {}'.format(name, age)) "
   ]
  },
  {
   "cell_type": "code",
   "execution_count": 6,
   "metadata": {},
   "outputs": [
    {
     "name": "stdout",
     "output_type": "stream",
     "text": [
      "My name is Gerana and my age is 25\n",
      "My name is Gerana and my age is 25\n"
     ]
    }
   ],
   "source": [
    "# approach 2: named indexes: {index_name}\n",
    "\n",
    "name = 'Gerana'\n",
    "age = 25\n",
    "print('My name is {n} and my age is {m}'.format(n = name, m = age))  \n",
    "print('My name is {one} and my age is {two}'.format(one = name, two = age))  "
   ]
  },
  {
   "cell_type": "code",
   "execution_count": 7,
   "metadata": {},
   "outputs": [
    {
     "name": "stdout",
     "output_type": "stream",
     "text": [
      "My name is Gerana and my age is 25\n",
      "My name is 25 and my age is Gerana\n",
      "my age is 25 and my name is Gerana\n",
      "my age is 25 and my name is Gerana\n"
     ]
    }
   ],
   "source": [
    "# approach 3: numbered indexes:{0-9}\n",
    "\n",
    "name = 'Gerana'\n",
    "age = 25\n",
    "\n",
    "print('My name is {0} and my age is {1}'.format(name, age)) \n",
    "print('My name is {0} and my age is {1}'.format(age, name)) \n",
    "'''\n",
    "if use numbers, start with 0; \n",
    "do not need to give assignments, just need to put them in order\n",
    "'''\n",
    "\n",
    "# compare number and named indexes\n",
    "print('my age is {0} and my name is {1}'.format(age, name)) # number indexes: use 0, 1, 2 \n",
    "print('my age is {one} and my name is {two}'.format(one = age, two = name)) # named indexes: if one, two.., need to use assignments \n"
   ]
  },
  {
   "cell_type": "markdown",
   "metadata": {},
   "source": [
    "## 6. f- strings formatting (python 3.6 version and above)"
   ]
  },
  {
   "cell_type": "markdown",
   "metadata": {},
   "source": [
    "- similar to .format( ), but directly put named indexes into {} brackets"
   ]
  },
  {
   "cell_type": "code",
   "execution_count": 8,
   "metadata": {},
   "outputs": [
    {
     "name": "stdout",
     "output_type": "stream",
     "text": [
      "My name is Gerana and my age is 25\n"
     ]
    }
   ],
   "source": [
    "# example\n",
    "name = 'Gerana'\n",
    "age = 25\n",
    "print(f'My name is {name} and my age is {age}') \n"
   ]
  },
  {
   "cell_type": "code",
   "execution_count": 9,
   "metadata": {},
   "outputs": [
    {
     "name": "stdout",
     "output_type": "stream",
     "text": [
      "I bought Grapes and the total price is 15.9877.\n",
      "I bought Grapes the total price is 15.9877.\n",
      "I bought Grapes the total price is 15.988.\n"
     ]
    }
   ],
   "source": [
    "# comparasion \n",
    "\n",
    "fruit = 'Grapes'\n",
    "price = 15.9877\n",
    "\n",
    "print('I bought %s and the total price is %s.'% (fruit, price))\n",
    "print('I bought {0} the total price is {1}.'.format(fruit, price))\n",
    "print( f'I bought {fruit} the total price is {price:.3f}.') # format the float numbers :.3f with 3 decimals"
   ]
  },
  {
   "cell_type": "markdown",
   "metadata": {},
   "source": [
    "## cases of dictionaries or lists"
   ]
  },
  {
   "cell_type": "code",
   "execution_count": 10,
   "metadata": {},
   "outputs": [
    {
     "name": "stdout",
     "output_type": "stream",
     "text": [
      "My name is Tom and my age is 32\n",
      "My name is Henry and my age is 25\n",
      "My name is NotKnown and my age is 19\n"
     ]
    }
   ],
   "source": [
    "# dictionary - for loop\n",
    "name_age_dict = {'Tom':32,'Henry':25, 'NotKnown':19}\n",
    "\n",
    "for key in name_age_dict:\n",
    "    print('My name is %s and my age is %s' %(key, name_age_dict[key]))\n"
   ]
  },
  {
   "cell_type": "code",
   "execution_count": 11,
   "metadata": {},
   "outputs": [
    {
     "name": "stdout",
     "output_type": "stream",
     "text": [
      "My name is Tom and my age is 32\n",
      "My name is Henry and my age is 25\n",
      "My name is NotKnown and my age is 19\n"
     ]
    }
   ],
   "source": [
    "# or use this:\n",
    "for key, value in name_age_dict.items():\n",
    "    print('My name is %s and my age is %s' %(key, value))"
   ]
  },
  {
   "cell_type": "code",
   "execution_count": 12,
   "metadata": {},
   "outputs": [
    {
     "name": "stdout",
     "output_type": "stream",
     "text": [
      "Tom is 32 years old\n",
      "Henry is 25 years old\n",
      "NotKnown is 19 years old\n"
     ]
    }
   ],
   "source": [
    "# with f-string formatting\n",
    "\n",
    "name_age_dict = {'Tom':32,'Henry':25, 'NotKnown':19}\n",
    "\n",
    "for key in name_age_dict:\n",
    "    print(f\"{key} is {name_age_dict[key]} years old\")"
   ]
  },
  {
   "cell_type": "code",
   "execution_count": 14,
   "metadata": {},
   "outputs": [
    {
     "name": "stdout",
     "output_type": "stream",
     "text": [
      "My name is Tom and my age is 32\n",
      "My name is Henry and my age is 25\n",
      "My name is NotKnown and my age is 19\n"
     ]
    }
   ],
   "source": [
    "# list of tuples\n",
    "name_age_ls = [('Tom',32),('Henry',25), ('NotKnown',19)]\n",
    "\n",
    "for i, j in name_age_ls:\n",
    "    print('My name is %s and my age is %s' %(i, j))"
   ]
  },
  {
   "cell_type": "code",
   "execution_count": null,
   "metadata": {},
   "outputs": [],
   "source": []
  }
 ],
 "metadata": {
  "kernelspec": {
   "display_name": "Python 3",
   "language": "python",
   "name": "python3"
  },
  "language_info": {
   "codemirror_mode": {
    "name": "ipython",
    "version": 3
   },
   "file_extension": ".py",
   "mimetype": "text/x-python",
   "name": "python",
   "nbconvert_exporter": "python",
   "pygments_lexer": "ipython3",
   "version": "3.7.4"
  }
 },
 "nbformat": 4,
 "nbformat_minor": 2
}
