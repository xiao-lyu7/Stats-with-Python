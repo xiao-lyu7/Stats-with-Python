{
 "cells": [
  {
   "cell_type": "markdown",
   "metadata": {},
   "source": [
    "# Python Multiple Assignments 2 Assign/ListComprehension/Zip"
   ]
  },
  {
   "cell_type": "markdown",
   "metadata": {},
   "source": [
    "## 1. assign values to multiple variables\n",
    "\n",
    "- could assign numbers or strings to variables\n",
    "- ( ): optional, but helps to make the assignment clearer\n",
    "- make sure you have the same number of variables as assigned values\n",
    "- pay attention to the format of assignments to ways of unpacking, especially strings"
   ]
  },
  {
   "cell_type": "code",
   "execution_count": 1,
   "metadata": {},
   "outputs": [
    {
     "data": {
      "text/plain": [
       "('Happy', '2020!', 'Great!')"
      ]
     },
     "execution_count": 1,
     "metadata": {},
     "output_type": "execute_result"
    }
   ],
   "source": [
    "# simple case\n",
    "x, y,z = 'Happy', '2020!','Great!'\n",
    "x, y,z"
   ]
  },
  {
   "cell_type": "code",
   "execution_count": 2,
   "metadata": {},
   "outputs": [
    {
     "data": {
      "text/plain": [
       "('H', 'A', 'P')"
      ]
     },
     "execution_count": 2,
     "metadata": {},
     "output_type": "execute_result"
    }
   ],
   "source": [
    "# specaial case with string\n",
    "x,y,z = 'HAP'\n",
    "x,y,z"
   ]
  },
  {
   "cell_type": "code",
   "execution_count": 3,
   "metadata": {},
   "outputs": [
    {
     "name": "stdout",
     "output_type": "stream",
     "text": [
      "H\n",
      "A\n",
      "H A P\n"
     ]
    }
   ],
   "source": [
    "# individual printouts\n",
    "print(x)\n",
    "print(y)\n",
    "print(x,y,z)"
   ]
  },
  {
   "cell_type": "markdown",
   "metadata": {},
   "source": [
    "### assign values as tuple-like formats using ()"
   ]
  },
  {
   "cell_type": "code",
   "execution_count": 4,
   "metadata": {},
   "outputs": [
    {
     "data": {
      "text/plain": [
       "('Happy', '2020!')"
      ]
     },
     "execution_count": 4,
     "metadata": {},
     "output_type": "execute_result"
    }
   ],
   "source": [
    "# approach 1\n",
    "(x, y) = ('Happy', '2020!')\n",
    "x,y"
   ]
  },
  {
   "cell_type": "code",
   "execution_count": 5,
   "metadata": {},
   "outputs": [
    {
     "data": {
      "text/plain": [
       "('Happy', '2020!')"
      ]
     },
     "execution_count": 5,
     "metadata": {},
     "output_type": "execute_result"
    }
   ],
   "source": [
    "# appraoch 2\n",
    "x, y = ('Happy', '2020!')\n",
    "x,y"
   ]
  },
  {
   "cell_type": "code",
   "execution_count": 6,
   "metadata": {},
   "outputs": [
    {
     "data": {
      "text/plain": [
       "('Happy', '2020!')"
      ]
     },
     "execution_count": 6,
     "metadata": {},
     "output_type": "execute_result"
    }
   ],
   "source": [
    "# appraoch 3\n",
    "(x, y) = 'Happy', '2020!'\n",
    "x,y"
   ]
  },
  {
   "cell_type": "markdown",
   "metadata": {},
   "source": [
    "### assign values into lists"
   ]
  },
  {
   "cell_type": "code",
   "execution_count": 7,
   "metadata": {},
   "outputs": [
    {
     "data": {
      "text/plain": [
       "'New York'"
      ]
     },
     "execution_count": 7,
     "metadata": {},
     "output_type": "execute_result"
    }
   ],
   "source": [
    "name, age, state = ['Tom', 27, 'New York']\n",
    "state"
   ]
  },
  {
   "cell_type": "code",
   "execution_count": 8,
   "metadata": {},
   "outputs": [
    {
     "data": {
      "text/plain": [
       "['T', 'o', 'm']"
      ]
     },
     "execution_count": 8,
     "metadata": {},
     "output_type": "execute_result"
    }
   ],
   "source": [
    "# to iterate the list\n",
    "[i for i in name] # will iterate the chars in name 'Tom'"
   ]
  },
  {
   "cell_type": "markdown",
   "metadata": {},
   "source": [
    "## 2.  Iterations\n"
   ]
  },
  {
   "cell_type": "markdown",
   "metadata": {},
   "source": [
    "### 1. List comprehension - returns a list\n",
    "\n",
    "- List comprehension format\n",
    "new_list = [expression for member in iterable]\n",
    "\n",
    "- to filter data: \n",
    "1. new_list = [expression for member in iterable (if conditional)]\n",
    "\n",
    "2. new_list = [expression (if conditional) for member in iterable]"
   ]
  },
  {
   "cell_type": "markdown",
   "metadata": {},
   "source": [
    "#### iterate through a list"
   ]
  },
  {
   "cell_type": "code",
   "execution_count": 45,
   "metadata": {},
   "outputs": [
    {
     "name": "stdout",
     "output_type": "stream",
     "text": [
      "The item is: 12\n",
      "The item is: 32\n",
      "The item is: happy\n",
      "The item is: str\n",
      "The item is: 45\n",
      "The item is: Python is Python\n"
     ]
    }
   ],
   "source": [
    "# iterate through a list\n",
    "alist = [12, 32, 'happy', 'str', 45, 'Python is Python']\n",
    "\n",
    "for i in alist:\n",
    "    print('The item is: ' + str(i)) \n",
    "# here have to use str(i) to convert int into str; show error otherwise\n",
    "# concat among strings only works for string formats"
   ]
  },
  {
   "cell_type": "code",
   "execution_count": 44,
   "metadata": {},
   "outputs": [
    {
     "data": {
      "text/plain": [
       "[12, 32, 'happy', 'str', 45, 'Python is Python']"
      ]
     },
     "execution_count": 44,
     "metadata": {},
     "output_type": "execute_result"
    }
   ],
   "source": [
    "# list comprehension\n",
    "[i for i in alist]"
   ]
  },
  {
   "cell_type": "code",
   "execution_count": 48,
   "metadata": {},
   "outputs": [
    {
     "name": "stdout",
     "output_type": "stream",
     "text": [
      "[1, 3, 5, 7, 9, 11, 13, 15, 17, 19, 21, 23, 25, 27, 29]\n"
     ]
    }
   ],
   "source": [
    "# set up conditions\n",
    "\n",
    "# find the odd numbers from 0-30\n",
    "odds = [i for i in range(0,31) if i%2 !=0]\n",
    "print(odds)\n"
   ]
  },
  {
   "cell_type": "code",
   "execution_count": 49,
   "metadata": {},
   "outputs": [
    {
     "name": "stdout",
     "output_type": "stream",
     "text": [
      "['e', 'o', 'e', 'o', 'e', 'a', 'o', 'a', 'e', 'o', 'e', 'i', 'e', 'i', 'o', 'a', 'e', 'e', 'o', 'o']\n"
     ]
    }
   ],
   "source": [
    "# find the vowels in a sentence\n",
    "sent = 'the rocket comes back from mars; the songs by Celine Dion are very good!'\n",
    "v = [i for i in sent if i in 'aeiou']\n",
    "print(v)\n"
   ]
  },
  {
   "cell_type": "code",
   "execution_count": 55,
   "metadata": {},
   "outputs": [
    {
     "name": "stdout",
     "output_type": "stream",
     "text": [
      "[0, 0, 10.22, 3.78, 0, 0, 8.65, 6.87, 0]\n"
     ]
    }
   ],
   "source": [
    "# if condition after expression before 'for' statement; to assign values here\n",
    "\n",
    "num = [1.25, -9.45, 10.22, 3.78, -5.92, 1.16, 8.65, 6.87, 0.56]\n",
    "big_two = [i if i >= 2 else 0 for i in num] # change values samller than 2 and keep ones above 2\n",
    "print(big_two)\n",
    "\n",
    "# similar to CASE WHEN statement in SQL\n"
   ]
  },
  {
   "cell_type": "code",
   "execution_count": 77,
   "metadata": {},
   "outputs": [
    {
     "data": {
      "text/plain": [
       "[0, 0, 10.22, 3.78, 0, 0, 8.65, 6.87, 0]"
      ]
     },
     "execution_count": 77,
     "metadata": {},
     "output_type": "execute_result"
    }
   ],
   "source": [
    "# this is a function below\n",
    "def get_bigger_two(lst):\n",
    "    new_lst =[]\n",
    "    for i in lst:\n",
    "        if i >= 2:\n",
    "            new_lst.append(i)\n",
    "        else:\n",
    "            new_lst.append(0)\n",
    "    return new_lst\n",
    "\n",
    "get_bigger_two(num)"
   ]
  },
  {
   "cell_type": "markdown",
   "metadata": {},
   "source": [
    "#### iterate through a dictionary - dictionary comprehension\n",
    "- returns a dictionary"
   ]
  },
  {
   "cell_type": "code",
   "execution_count": 92,
   "metadata": {},
   "outputs": [
    {
     "name": "stdout",
     "output_type": "stream",
     "text": [
      "{0: 0, 1: 1, 2: 8, 3: 27, 4: 64, 5: 125, 6: 216, 7: 343, 8: 512, 9: 729, 10: 1000, 11: 1331, 12: 1728, 13: 2197, 14: 2744}\n"
     ]
    }
   ],
   "source": [
    "# cubic function\n",
    "qub = {i: i**3 for i in range(15)}\n",
    "print(qub)"
   ]
  },
  {
   "cell_type": "markdown",
   "metadata": {},
   "source": [
    "##### to access keys and values in a ditionary\n",
    "- .keys()\n",
    "- .values()\n",
    "- .items()"
   ]
  },
  {
   "cell_type": "code",
   "execution_count": 96,
   "metadata": {},
   "outputs": [
    {
     "data": {
      "text/plain": [
       "{'Tom': 'Tom good weather',\n",
       " 'Sarah is Happy': 'Sarah is Happy good weather',\n",
       " 'str': 'str good weather',\n",
       " '50': '50 good weather'}"
      ]
     },
     "execution_count": 96,
     "metadata": {},
     "output_type": "execute_result"
    }
   ],
   "source": [
    "dic_sample = {1:'Tom', 2:'Sarah is Happy', 3: 'str', 4: '50'}\n",
    "\n",
    "# iterate through values\n",
    "add_word = {val: val + ' good weather' for val in dic_sample.values() }\n",
    "\n",
    "add_word"
   ]
  },
  {
   "cell_type": "code",
   "execution_count": 94,
   "metadata": {},
   "outputs": [
    {
     "data": {
      "text/plain": [
       "{1: 8, 2: 9, 3: 10, 4: 11}"
      ]
     },
     "execution_count": 94,
     "metadata": {},
     "output_type": "execute_result"
    }
   ],
   "source": [
    "# iterate through keys\n",
    "dic_sample = {1:'Tom', 2:'Sarah is Happy', 3: 'str', 4: '50'}\n",
    "add_ind = {key: key + 7 for key in dic_sample.keys()}\n",
    "add_ind"
   ]
  },
  {
   "cell_type": "code",
   "execution_count": 98,
   "metadata": {},
   "outputs": [
    {
     "data": {
      "text/plain": [
       "{8: 'Tom good weather',\n",
       " 9: 'Sarah is Happy good weather',\n",
       " 10: 'str good weather',\n",
       " 11: '50 good weather'}"
      ]
     },
     "execution_count": 98,
     "metadata": {},
     "output_type": "execute_result"
    }
   ],
   "source": [
    "# change both keys and values\n",
    "dic_sample = {1:'Tom', 2:'Sarah is Happy', 3: 'str', 4: '50'}\n",
    "new_dict = {key +7: val + ' good weather' for (key,val) in dic_sample.items()}\n",
    "new_dict"
   ]
  },
  {
   "cell_type": "markdown",
   "metadata": {},
   "source": [
    "### 2. enumerate ( ): returns  tuple\n",
    "- assign index to assignments/ values"
   ]
  },
  {
   "cell_type": "code",
   "execution_count": 100,
   "metadata": {},
   "outputs": [
    {
     "name": "stdout",
     "output_type": "stream",
     "text": [
      "At index 0, the item is 12\n",
      "At index 1, the item is 32\n",
      "At index 2, the item is happy\n",
      "At index 3, the item is str\n",
      "At index 4, the item is 45\n",
      "At index 5, the item is Python is Python\n",
      "5 Python is Python\n"
     ]
    }
   ],
   "source": [
    "# add index to a list\n",
    "alist = [12, 32, 'happy', 'str', 45, 'Python is Python']\n",
    "\n",
    "for ind, item in enumerate(alist):\n",
    "    print(f'At index {ind}, the item is {item}')"
   ]
  },
  {
   "cell_type": "code",
   "execution_count": 102,
   "metadata": {},
   "outputs": [
    {
     "name": "stdout",
     "output_type": "stream",
     "text": [
      "0 12\n",
      "1 32\n",
      "2 happy\n",
      "3 str\n",
      "4 45\n",
      "5 Python is Python\n"
     ]
    }
   ],
   "source": [
    "for ind, item in enumerate(alist):\n",
    "    print(ind, item)"
   ]
  },
  {
   "cell_type": "code",
   "execution_count": 103,
   "metadata": {},
   "outputs": [
    {
     "name": "stdout",
     "output_type": "stream",
     "text": [
      "0 1\n",
      "1 2\n",
      "2 3\n",
      "3 4\n"
     ]
    }
   ],
   "source": [
    "# for dictionaries\n",
    "\n",
    "dic_sample = {1:'Tom', 2:'Sarah is Happy', 3: 'str', 4: '50'}\n",
    "\n",
    "for ind, key in enumerate(dic_sample):\n",
    "    print(ind, key)\n",
    "# add index to keys of the dictionary"
   ]
  },
  {
   "cell_type": "code",
   "execution_count": 109,
   "metadata": {},
   "outputs": [
    {
     "name": "stdout",
     "output_type": "stream",
     "text": [
      "At index 0, the key is 1, and the values is Tom\n",
      "At index 1, the key is 2, and the values is Sarah is Happy\n",
      "At index 2, the key is 3, and the values is str\n",
      "At index 3, the key is 4, and the values is 50\n"
     ]
    }
   ],
   "source": [
    "# add index to the key:value pairs\n",
    "dic_sample = {1:'Tom', 2:'Sarah is Happy', 3: 'str', 4: '50'}\n",
    "\n",
    "for ind, (key, value) in enumerate(dic_sample.items()):\n",
    "    print(f'At index {ind}, the key is {key}, and the values is {value}')\n",
    "# add index to each key:value pair"
   ]
  },
  {
   "cell_type": "code",
   "execution_count": 110,
   "metadata": {},
   "outputs": [
    {
     "data": {
      "text/plain": [
       "[(0, (1, 'Tom')), (1, (2, 'Sarah is Happy')), (2, (3, 'str')), (3, (4, '50'))]"
      ]
     },
     "execution_count": 110,
     "metadata": {},
     "output_type": "execute_result"
    }
   ],
   "source": [
    "# convert the enumerated tuples in a list\n",
    "\n",
    "dic_sample = {1:'Tom', 2:'Sarah is Happy', 3: 'str', 4: '50'}\n",
    "\n",
    "list_tuple = list(enumerate(dic_sample.items()))\n",
    "list_tuple"
   ]
  },
  {
   "cell_type": "code",
   "execution_count": 141,
   "metadata": {},
   "outputs": [
    {
     "name": "stdout",
     "output_type": "stream",
     "text": [
      "0 10 10\n",
      "1 20 20\n",
      "2 30 30\n",
      "60\n",
      "6000\n"
     ]
    }
   ],
   "source": [
    "# use enumerate to generate new values\n",
    "list_num = [10,20,30]\n",
    "store_sum = 0\n",
    "store_prod = 1\n",
    "for i,j in enumerate(list_num):\n",
    "    print(i,j, list_num[i])\n",
    "    store_sum = store_sum + j\n",
    "    store_prod = store_prod * list_num[i]\n",
    "print(store_sum)\n",
    "print(store_prod)"
   ]
  },
  {
   "cell_type": "markdown",
   "metadata": {},
   "source": [
    "### 3. zip (iterators , iterators, etc)\n",
    "\n",
    "\n",
    "- returns a single object with mapped values\n",
    "- can be changed into a list or dictionary based on needs"
   ]
  },
  {
   "cell_type": "markdown",
   "metadata": {},
   "source": [
    "#### zip into a list"
   ]
  },
  {
   "cell_type": "code",
   "execution_count": 2,
   "metadata": {},
   "outputs": [
    {
     "data": {
      "text/plain": [
       "[('apple', 1.49, 2),\n",
       " ('grapes', 3.99, 1),\n",
       " ('orange', 0.99, 3),\n",
       " ('pear', 2.98, 4)]"
      ]
     },
     "execution_count": 2,
     "metadata": {},
     "output_type": "execute_result"
    }
   ],
   "source": [
    "fruit = ['apple','orange', 'grapes','pear']\n",
    "unit_price = [1.49, 0.99, 3.99, 2.98]\n",
    "bought_bls = [2, 3, 1, 4]\n",
    "\n",
    "fruit_bought = zip(fruit, unit_price, bought_bls)\n",
    "list(sorted(fruit_bought))  # sort the output"
   ]
  },
  {
   "cell_type": "code",
   "execution_count": 6,
   "metadata": {},
   "outputs": [
    {
     "name": "stdout",
     "output_type": "stream",
     "text": [
      "I bought 2 pounds of apple at a unit price of 1.49$.\n",
      "I bought 3 pounds of orange at a unit price of 0.99$.\n",
      "I bought 1 pounds of grapes at a unit price of 3.99$.\n",
      "I bought 4 pounds of pear at a unit price of 2.98$.\n"
     ]
    }
   ],
   "source": [
    "# to iterate through zipped object\n",
    "for i, j, q in zip(fruit, unit_price, bought_bls):\n",
    "    print(f'I bought {q} pounds of {i} at a unit price of {j}$.')"
   ]
  },
  {
   "cell_type": "markdown",
   "metadata": {},
   "source": [
    "#### zip into a dictionary"
   ]
  },
  {
   "cell_type": "code",
   "execution_count": 7,
   "metadata": {},
   "outputs": [
    {
     "name": "stdout",
     "output_type": "stream",
     "text": [
      "{'apple': 1.49, 'orange': 0.99, 'grapes': 3.99, 'pear': 2.98}\n"
     ]
    }
   ],
   "source": [
    "fruit_dict = dict(zip(fruit, unit_price))\n",
    "print(fruit_dict)"
   ]
  },
  {
   "cell_type": "code",
   "execution_count": 9,
   "metadata": {},
   "outputs": [
    {
     "name": "stdout",
     "output_type": "stream",
     "text": [
      "['apple', 'grapes', 'orange', 'pear']\n",
      "[0.99, 1.49, 2.98, 3.99]\n"
     ]
    }
   ],
   "source": [
    "# print out by sorted keys, or values\n",
    "print(sorted(fruit_dict.keys()))\n",
    "print(sorted(fruit_dict.values()))"
   ]
  },
  {
   "cell_type": "code",
   "execution_count": null,
   "metadata": {},
   "outputs": [],
   "source": []
  }
 ],
 "metadata": {
  "kernelspec": {
   "display_name": "Python 3",
   "language": "python",
   "name": "python3"
  },
  "language_info": {
   "codemirror_mode": {
    "name": "ipython",
    "version": 3
   },
   "file_extension": ".py",
   "mimetype": "text/x-python",
   "name": "python",
   "nbconvert_exporter": "python",
   "pygments_lexer": "ipython3",
   "version": "3.7.4"
  }
 },
 "nbformat": 4,
 "nbformat_minor": 2
}
