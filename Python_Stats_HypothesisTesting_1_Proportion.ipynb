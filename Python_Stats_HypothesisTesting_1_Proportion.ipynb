{
 "cells": [
  {
   "cell_type": "markdown",
   "metadata": {},
   "source": [
    "# Python Stats: Hypothesis testing - Proportion test"
   ]
  },
  {
   "cell_type": "markdown",
   "metadata": {},
   "source": [
    "## Cases of Proportion Test"
   ]
  },
  {
   "cell_type": "code",
   "execution_count": 1,
   "metadata": {},
   "outputs": [],
   "source": [
    "# import libraries\n",
    "import pandas as pd\n",
    "import numpy as np\n",
    "import seaborn as sns\n",
    "import matplotlib.pyplot as plt\n",
    "import statsmodels.api as sm\n",
    "import scipy.stats.distributions as dist\n",
    "\n",
    "import warnings\n",
    "warnings.filterwarnings('ignore')\n",
    "\n",
    "# set maximum columns display as 50\n",
    "pd.set_option('display.max_columns',50) \n",
    "\n",
    "%matplotlib inline"
   ]
  },
  {
   "cell_type": "code",
   "execution_count": 2,
   "metadata": {},
   "outputs": [
    {
     "data": {
      "text/html": [
       "<div>\n",
       "<style scoped>\n",
       "    .dataframe tbody tr th:only-of-type {\n",
       "        vertical-align: middle;\n",
       "    }\n",
       "\n",
       "    .dataframe tbody tr th {\n",
       "        vertical-align: top;\n",
       "    }\n",
       "\n",
       "    .dataframe thead th {\n",
       "        text-align: right;\n",
       "    }\n",
       "</style>\n",
       "<table border=\"1\" class=\"dataframe\">\n",
       "  <thead>\n",
       "    <tr style=\"text-align: right;\">\n",
       "      <th></th>\n",
       "      <th>Id</th>\n",
       "      <th>EmployeeName</th>\n",
       "      <th>JobTitle</th>\n",
       "      <th>BasePay</th>\n",
       "      <th>OvertimePay</th>\n",
       "      <th>OtherPay</th>\n",
       "      <th>Benefits</th>\n",
       "      <th>TotalPay</th>\n",
       "      <th>TotalPayBenefits</th>\n",
       "      <th>Year</th>\n",
       "      <th>Notes</th>\n",
       "      <th>Agency</th>\n",
       "      <th>Status</th>\n",
       "    </tr>\n",
       "  </thead>\n",
       "  <tbody>\n",
       "    <tr>\n",
       "      <td>0</td>\n",
       "      <td>1</td>\n",
       "      <td>NATHANIEL FORD</td>\n",
       "      <td>GENERAL MANAGER-METROPOLITAN TRANSIT AUTHORITY</td>\n",
       "      <td>167411.18</td>\n",
       "      <td>0.00</td>\n",
       "      <td>400184.25</td>\n",
       "      <td>NaN</td>\n",
       "      <td>567595.43</td>\n",
       "      <td>567595.43</td>\n",
       "      <td>2011</td>\n",
       "      <td>NaN</td>\n",
       "      <td>San Francisco</td>\n",
       "      <td>NaN</td>\n",
       "    </tr>\n",
       "    <tr>\n",
       "      <td>1</td>\n",
       "      <td>2</td>\n",
       "      <td>GARY JIMENEZ</td>\n",
       "      <td>CAPTAIN III (POLICE DEPARTMENT)</td>\n",
       "      <td>155966.02</td>\n",
       "      <td>245131.88</td>\n",
       "      <td>137811.38</td>\n",
       "      <td>NaN</td>\n",
       "      <td>538909.28</td>\n",
       "      <td>538909.28</td>\n",
       "      <td>2011</td>\n",
       "      <td>NaN</td>\n",
       "      <td>San Francisco</td>\n",
       "      <td>NaN</td>\n",
       "    </tr>\n",
       "    <tr>\n",
       "      <td>2</td>\n",
       "      <td>3</td>\n",
       "      <td>ALBERT PARDINI</td>\n",
       "      <td>CAPTAIN III (POLICE DEPARTMENT)</td>\n",
       "      <td>212739.13</td>\n",
       "      <td>106088.18</td>\n",
       "      <td>16452.60</td>\n",
       "      <td>NaN</td>\n",
       "      <td>335279.91</td>\n",
       "      <td>335279.91</td>\n",
       "      <td>2011</td>\n",
       "      <td>NaN</td>\n",
       "      <td>San Francisco</td>\n",
       "      <td>NaN</td>\n",
       "    </tr>\n",
       "    <tr>\n",
       "      <td>3</td>\n",
       "      <td>4</td>\n",
       "      <td>CHRISTOPHER CHONG</td>\n",
       "      <td>WIRE ROPE CABLE MAINTENANCE MECHANIC</td>\n",
       "      <td>77916.00</td>\n",
       "      <td>56120.71</td>\n",
       "      <td>198306.90</td>\n",
       "      <td>NaN</td>\n",
       "      <td>332343.61</td>\n",
       "      <td>332343.61</td>\n",
       "      <td>2011</td>\n",
       "      <td>NaN</td>\n",
       "      <td>San Francisco</td>\n",
       "      <td>NaN</td>\n",
       "    </tr>\n",
       "    <tr>\n",
       "      <td>4</td>\n",
       "      <td>5</td>\n",
       "      <td>PATRICK GARDNER</td>\n",
       "      <td>DEPUTY CHIEF OF DEPARTMENT,(FIRE DEPARTMENT)</td>\n",
       "      <td>134401.60</td>\n",
       "      <td>9737.00</td>\n",
       "      <td>182234.59</td>\n",
       "      <td>NaN</td>\n",
       "      <td>326373.19</td>\n",
       "      <td>326373.19</td>\n",
       "      <td>2011</td>\n",
       "      <td>NaN</td>\n",
       "      <td>San Francisco</td>\n",
       "      <td>NaN</td>\n",
       "    </tr>\n",
       "  </tbody>\n",
       "</table>\n",
       "</div>"
      ],
      "text/plain": [
       "   Id       EmployeeName                                        JobTitle  \\\n",
       "0   1     NATHANIEL FORD  GENERAL MANAGER-METROPOLITAN TRANSIT AUTHORITY   \n",
       "1   2       GARY JIMENEZ                 CAPTAIN III (POLICE DEPARTMENT)   \n",
       "2   3     ALBERT PARDINI                 CAPTAIN III (POLICE DEPARTMENT)   \n",
       "3   4  CHRISTOPHER CHONG            WIRE ROPE CABLE MAINTENANCE MECHANIC   \n",
       "4   5    PATRICK GARDNER    DEPUTY CHIEF OF DEPARTMENT,(FIRE DEPARTMENT)   \n",
       "\n",
       "     BasePay  OvertimePay   OtherPay  Benefits   TotalPay  TotalPayBenefits  \\\n",
       "0  167411.18         0.00  400184.25       NaN  567595.43         567595.43   \n",
       "1  155966.02    245131.88  137811.38       NaN  538909.28         538909.28   \n",
       "2  212739.13    106088.18   16452.60       NaN  335279.91         335279.91   \n",
       "3   77916.00     56120.71  198306.90       NaN  332343.61         332343.61   \n",
       "4  134401.60      9737.00  182234.59       NaN  326373.19         326373.19   \n",
       "\n",
       "   Year  Notes         Agency  Status  \n",
       "0  2011    NaN  San Francisco     NaN  \n",
       "1  2011    NaN  San Francisco     NaN  \n",
       "2  2011    NaN  San Francisco     NaN  \n",
       "3  2011    NaN  San Francisco     NaN  \n",
       "4  2011    NaN  San Francisco     NaN  "
      ]
     },
     "execution_count": 2,
     "metadata": {},
     "output_type": "execute_result"
    }
   ],
   "source": [
    "# import the dataset\n",
    "df = pd.read_csv('Salaries.csv', )\n",
    "df.head()\n",
    "\n",
    "# this dataset shows the salary information for workers in SF"
   ]
  },
  {
   "cell_type": "code",
   "execution_count": 3,
   "metadata": {},
   "outputs": [
    {
     "data": {
      "text/plain": [
       "(148654, 13)"
      ]
     },
     "execution_count": 3,
     "metadata": {},
     "output_type": "execute_result"
    }
   ],
   "source": [
    "df.shape"
   ]
  },
  {
   "cell_type": "code",
   "execution_count": 4,
   "metadata": {
    "scrolled": true
   },
   "outputs": [
    {
     "data": {
      "text/plain": [
       "Id                       0\n",
       "EmployeeName             0\n",
       "JobTitle                 0\n",
       "BasePay                609\n",
       "OvertimePay              4\n",
       "OtherPay                 4\n",
       "Benefits             36163\n",
       "TotalPay                 0\n",
       "TotalPayBenefits         0\n",
       "Year                     0\n",
       "Notes               148654\n",
       "Agency                   0\n",
       "Status              148654\n",
       "dtype: int64"
      ]
     },
     "execution_count": 4,
     "metadata": {},
     "output_type": "execute_result"
    }
   ],
   "source": [
    "df.isnull().sum()\n",
    "# no missing values in total pay and year"
   ]
  },
  {
   "cell_type": "code",
   "execution_count": 5,
   "metadata": {},
   "outputs": [
    {
     "data": {
      "text/plain": [
       "(148654, 11)"
      ]
     },
     "execution_count": 5,
     "metadata": {},
     "output_type": "execute_result"
    }
   ],
   "source": [
    "df.drop(['Notes','Status'], axis = 1, inplace = True)\n",
    "df.shape"
   ]
  },
  {
   "cell_type": "markdown",
   "metadata": {},
   "source": [
    "**Notes:**\n",
    "- in actual data analysis, we need to examine missing values and find out potential reasons for missing.\n",
    "- here, we focus on showing the process of hypothesis testing."
   ]
  },
  {
   "cell_type": "markdown",
   "metadata": {},
   "source": [
    "## 1. hypothesis testing for one-proportion\n",
    "\n",
    "**Example Scenario:**\n",
    "\n",
    "- Assume we know that in 2011, 25% of employees nationwide (in U.S.) had a total pay of $100,000 and above.\n",
    "\n",
    "- Here, we want to know:\n",
    "  - whether the proportion of employees with total pay of $100,000 and above in SF is different from the nationwide proportion in the same year (2011). \n",
    "\n",
    "\n",
    "**Assumptions Checking:**\n",
    "- Assume data were randomly sampled from all employees in SF \n",
    "- Sample size here is already big enough."
   ]
  },
  {
   "cell_type": "markdown",
   "metadata": {},
   "source": [
    "Here, we will run a **two-sided one-sample proportion test**:\n",
    "\n",
    "**Null Hypothesis (H0): p1 = p0**\n",
    "\n",
    "(Meaning: the proportion of employees with total pay of $100,000 and above in SF *is the same as* the nationwide proportion in the same year (2011))\n",
    "\n",
    "**Alternative Hypothesis (H1): p1 != p0** \n",
    "\n",
    "(Meaning: the proportion of employees with total pay of $100,000 and above in SF is different from the nationwide proportion in the same year (2011))\n",
    "   \n",
    "Set alpha at 0.05"
   ]
  },
  {
   "cell_type": "code",
   "execution_count": 6,
   "metadata": {},
   "outputs": [
    {
     "name": "stdout",
     "output_type": "stream",
     "text": [
      "(36159,)\n",
      "(9524,)\n"
     ]
    }
   ],
   "source": [
    "# calculate the proportion of employees with total pay of $100,000 and above in SF in year 2011\n",
    "\n",
    "df_pay = df['TotalPay'][df['Year']== 2011]\n",
    "print(df_pay.shape)\n",
    "\n",
    "df_high_pay = df['TotalPay'][(df['TotalPay']>=100000) & (df['Year'] == 2011)]\n",
    "print(df_high_pay.shape)\n",
    "\n",
    "# 9524 employees out of 36159 employees sampled had a total pay of 100,000 and above"
   ]
  },
  {
   "cell_type": "code",
   "execution_count": 7,
   "metadata": {},
   "outputs": [
    {
     "data": {
      "text/plain": [
       "0.26339223982964133"
      ]
     },
     "execution_count": 7,
     "metadata": {},
     "output_type": "execute_result"
    }
   ],
   "source": [
    "# calculate p1\n",
    "p1 = df_high_pay.shape[0]/df_pay.shape[0]\n",
    "p1"
   ]
  },
  {
   "cell_type": "markdown",
   "metadata": {},
   "source": [
    "### 1). mannual calculation\n",
    "\n",
    "- z = (p0-p1)/se\n",
    "- se = sqrt(p0*(1-p0)/n) or sqrt(p1*(1-p1)/n) : standard error of estimate"
   ]
  },
  {
   "cell_type": "code",
   "execution_count": 8,
   "metadata": {},
   "outputs": [
    {
     "data": {
      "text/plain": [
       "0.002316388643197871"
      ]
     },
     "execution_count": 8,
     "metadata": {},
     "output_type": "execute_result"
    }
   ],
   "source": [
    "# calculate standard error of estimate\n",
    "import numpy as np\n",
    "p0 = 0.25\n",
    "n = df_pay.shape[0]\n",
    "se = np.sqrt(p1*(1-p1)/n)\n",
    "se\n"
   ]
  },
  {
   "cell_type": "code",
   "execution_count": 9,
   "metadata": {},
   "outputs": [],
   "source": [
    "# # calculate standard error of estimate\n",
    "# import numpy as np\n",
    "# p0 = 0.25 # null proportion\n",
    "# n = df_pay.shape[0]\n",
    "# se = np.sqrt(p0*(1-p0)/n)\n",
    "# se"
   ]
  },
  {
   "cell_type": "code",
   "execution_count": 10,
   "metadata": {},
   "outputs": [
    {
     "data": {
      "text/plain": [
       "5.7848669045021595"
      ]
     },
     "execution_count": 10,
     "metadata": {},
     "output_type": "execute_result"
    }
   ],
   "source": [
    "# calculate z score\n",
    "p0 = 0.25\n",
    "p1 = 0.2634\n",
    "z = (p1-p0)/se\n",
    "z"
   ]
  },
  {
   "cell_type": "code",
   "execution_count": 11,
   "metadata": {},
   "outputs": [
    {
     "name": "stdout",
     "output_type": "stream",
     "text": [
      "5.7848669045021595 7.256976444300643e-09\n"
     ]
    }
   ],
   "source": [
    "# # calculate p-value\n",
    "pvalue = 2 * dist.norm.cdf(-np.abs(z)) # cdf: cumulative distribution function \n",
    "print(z, pvalue)\n",
    "# p < 0.05, reject null hypothesis"
   ]
  },
  {
   "cell_type": "code",
   "execution_count": 12,
   "metadata": {},
   "outputs": [
    {
     "data": {
      "text/plain": [
       "4.3169400948403186e-08"
      ]
     },
     "execution_count": 12,
     "metadata": {},
     "output_type": "execute_result"
    }
   ],
   "source": [
    "# or use below to find p-value\n",
    "import scipy\n",
    "pvalue = scipy.stats.norm.pdf(abs(z))*2     # pdf: probability density function; here for normal distribution\n",
    "pvalue \n",
    "\n",
    "# result should be close to the above approach "
   ]
  },
  {
   "cell_type": "code",
   "execution_count": 13,
   "metadata": {},
   "outputs": [
    {
     "ename": "NameError",
     "evalue": "name 'st' is not defined",
     "output_type": "error",
     "traceback": [
      "\u001b[0;31m---------------------------------------------------------------------------\u001b[0m",
      "\u001b[0;31mNameError\u001b[0m                                 Traceback (most recent call last)",
      "\u001b[0;32m<ipython-input-13-1a78c0820168>\u001b[0m in \u001b[0;36m<module>\u001b[0;34m\u001b[0m\n\u001b[1;32m      1\u001b[0m \u001b[0;31m# find Z values for the left and right tail when significane level - alpha = 0.05\u001b[0m\u001b[0;34m\u001b[0m\u001b[0;34m\u001b[0m\u001b[0;34m\u001b[0m\u001b[0m\n\u001b[0;32m----> 2\u001b[0;31m \u001b[0mprint\u001b[0m\u001b[0;34m(\u001b[0m\u001b[0mst\u001b[0m\u001b[0;34m.\u001b[0m\u001b[0mnorm\u001b[0m\u001b[0;34m.\u001b[0m\u001b[0mppf\u001b[0m\u001b[0;34m(\u001b[0m\u001b[0;36m.025\u001b[0m\u001b[0;34m)\u001b[0m\u001b[0;34m)\u001b[0m\u001b[0;34m\u001b[0m\u001b[0;34m\u001b[0m\u001b[0m\n\u001b[0m\u001b[1;32m      3\u001b[0m \u001b[0mprint\u001b[0m\u001b[0;34m(\u001b[0m\u001b[0mst\u001b[0m\u001b[0;34m.\u001b[0m\u001b[0mnorm\u001b[0m\u001b[0;34m.\u001b[0m\u001b[0mppf\u001b[0m\u001b[0;34m(\u001b[0m\u001b[0;36m.975\u001b[0m\u001b[0;34m)\u001b[0m\u001b[0;34m)\u001b[0m\u001b[0;34m\u001b[0m\u001b[0;34m\u001b[0m\u001b[0m\n\u001b[1;32m      4\u001b[0m \u001b[0;34m\u001b[0m\u001b[0m\n\u001b[1;32m      5\u001b[0m \u001b[0;31m# here, we can also see that the Z score (95%) = 3.92 < z = 4.086: should reject null hypothesis\u001b[0m\u001b[0;34m\u001b[0m\u001b[0;34m\u001b[0m\u001b[0;34m\u001b[0m\u001b[0m\n",
      "\u001b[0;31mNameError\u001b[0m: name 'st' is not defined"
     ]
    }
   ],
   "source": [
    "# find Z values for the left and right tail when significane level - alpha = 0.05\n",
    "print(st.norm.ppf(.025))\n",
    "print(st.norm.ppf(.975))\n",
    "\n",
    "# here, we can also see that the Z score (95%) = 3.92 < z = 4.086: should reject null hypothesis"
   ]
  },
  {
   "cell_type": "markdown",
   "metadata": {},
   "source": [
    "### 2). built-in stats models\n",
    "\n",
    "- for one sample proportion:\n",
    "\n",
    "sm.stats.proportions_ztest(count, nobs, value)\n",
    "\n",
    "- count: the number of observed successes in nobs trials; here, number of employee with total pay of 100,000 and above in SF in 2011\n",
    "- nobs: total number of observations: total number of employees in SF in 2011 (sampled)\n",
    "- value: for one-sample proportion = p0; for two sample proportion = prop[0]-prob[1]\n",
    "\n",
    "**Attention:**\n",
    "\n",
    "- in Python built-in statsmodels: when calculate standard error (se), the sample proportion (p1) is used\n",
    "- however, the results should be very similar to using null proportion proportion (p0)\n"
   ]
  },
  {
   "cell_type": "code",
   "execution_count": 14,
   "metadata": {},
   "outputs": [
    {
     "data": {
      "text/plain": [
       "(5.7815167886304195, 7.403009152237138e-09)"
      ]
     },
     "execution_count": 14,
     "metadata": {},
     "output_type": "execute_result"
    }
   ],
   "source": [
    "# use built in stats models to calculate z score and p-value\n",
    "stat1, pvalue1 = sm.stats.proportions_ztest(df_high_pay.shape[0], \n",
    "                                            df_pay.shape[0], 0.25, alternative='two-sided')\n",
    "stat1, pvalue1\n",
    "# Normal approximation with estimated proportion in se"
   ]
  },
  {
   "cell_type": "code",
   "execution_count": 15,
   "metadata": {},
   "outputs": [
    {
     "data": {
      "text/plain": [
       "4.967808616616095e-09"
      ]
     },
     "execution_count": 15,
     "metadata": {},
     "output_type": "execute_result"
    }
   ],
   "source": [
    "# Exact binomial distribution  p-value  -- only provide p-value\n",
    "pvalue2 = sm.stats.binom_test(df_high_pay.shape[0], \n",
    "                            df_pay.shape[0], 0.25, alternative='two-sided') # Exact binomial p-value\n",
    "pvalue2"
   ]
  },
  {
   "cell_type": "markdown",
   "metadata": {},
   "source": [
    "## 2. hypothesis testing for differences in two proportions\n",
    "\n",
    "- Let's assume we want to know whether the proportion of emplyees whose total pay is at least $100,000 in San\n",
    "Francisco from year 2011 is different from that of 2012\n"
   ]
  },
  {
   "cell_type": "markdown",
   "metadata": {},
   "source": [
    "Here, I will run **a two-sided two-sample proportion test**\n",
    "\n",
    "**Null Hypothesis (H0): p2 - p1 = 0**\n",
    "\n",
    "    - (Meaning: The proportion of employees with total pay of $100,000 and above in SF in 2011 *is the same as* that of 2012 )\n",
    " \n",
    "**Alternative Hypothesis (H1): p2 - p1 !=0**\n",
    "\n",
    "    - (Meaning: The proportion of employees with total pay of $100,000 and above in SF is different from that of 2012)\n",
    " \n",
    "Set alpha at 0.05"
   ]
  },
  {
   "cell_type": "markdown",
   "metadata": {},
   "source": [
    "### 1) mannual calculation\n",
    "\n",
    "- z = ((p2-p1) - 0)/se\n",
    "- standard error of estimate: se = sqrt{(p^*(1 - p^) ) * (1/n1 + 1/n2)}  \n",
    "- and p^ = total number of sampled employees with total pay of $100,000 and above in 2011 and 2012 / total sampled employees in this 2011 and 2012"
   ]
  },
  {
   "cell_type": "code",
   "execution_count": 16,
   "metadata": {},
   "outputs": [
    {
     "data": {
      "text/plain": [
       "0.26339223982964133"
      ]
     },
     "execution_count": 16,
     "metadata": {},
     "output_type": "execute_result"
    }
   ],
   "source": [
    "# from previous calculation:\n",
    "\n",
    "p1 = df_high_pay.shape[0]/df_pay.shape[0]\n",
    "p1"
   ]
  },
  {
   "cell_type": "code",
   "execution_count": 17,
   "metadata": {},
   "outputs": [
    {
     "data": {
      "text/plain": [
       "0.2720176249796007"
      ]
     },
     "execution_count": 17,
     "metadata": {},
     "output_type": "execute_result"
    }
   ],
   "source": [
    "# calculate proportion of highly paid employees in 2012\n",
    "df_pay12 = df['TotalPay'][df['Year'] == 2012]\n",
    "df_high_pay12 = df['TotalPay'][(df['TotalPay']>=100000) & (df['Year'] == 2012)]\n",
    "p2 = df_high_pay12.shape[0]/df_pay12.shape[0]\n",
    "p2"
   ]
  },
  {
   "cell_type": "code",
   "execution_count": 18,
   "metadata": {},
   "outputs": [
    {
     "name": "stdout",
     "output_type": "stream",
     "text": [
      "0.26774082961947204\n",
      "0.0032794161706268003\n"
     ]
    }
   ],
   "source": [
    "# calculate p_hat\n",
    "p_hat = (df_high_pay12.shape[0] + df_high_pay.shape[0])/ (df_pay.shape[0] + df_pay12.shape[0])\n",
    "print(p_hat)\n",
    "\n",
    "# calculate standard error of estimate\n",
    "se = np.sqrt((p_hat*(1 - p_hat)) * (1/df_pay.shape[0] + 1/df_pay12.shape[0]))\n",
    "print(se)"
   ]
  },
  {
   "cell_type": "code",
   "execution_count": 19,
   "metadata": {},
   "outputs": [
    {
     "data": {
      "text/plain": [
       "2.6301587542366662"
      ]
     },
     "execution_count": 19,
     "metadata": {},
     "output_type": "execute_result"
    }
   ],
   "source": [
    "# calculate Z score\n",
    "z = ((p2-p1) - 0)/se\n",
    "z"
   ]
  },
  {
   "cell_type": "code",
   "execution_count": 20,
   "metadata": {},
   "outputs": [
    {
     "name": "stdout",
     "output_type": "stream",
     "text": [
      "2.6301587542366662 0.008534500343848827\n"
     ]
    }
   ],
   "source": [
    "# find pvalue\n",
    "pvalue = 2 * dist.norm.cdf(-np.abs(z)) # cdf: cumulative distribution function \n",
    "print(z, pvalue)\n",
    "\n",
    "# p < 0.05 , reject null"
   ]
  },
  {
   "cell_type": "markdown",
   "metadata": {},
   "source": [
    "### 2) built-in stats models"
   ]
  },
  {
   "cell_type": "code",
   "execution_count": 21,
   "metadata": {},
   "outputs": [
    {
     "data": {
      "text/plain": [
       "(-2.6301587542366662, 0.008534500343848827)"
      ]
     },
     "execution_count": 21,
     "metadata": {},
     "output_type": "execute_result"
    }
   ],
   "source": [
    "# find pvalue\n",
    "count = np.array([df_high_pay.shape[0],df_high_pay12.shape[0]]) \n",
    "nobs = np.array([df_pay.shape[0], df_pay12.shape[0]])\n",
    "stat, pvalue = sm.stats.proportions_ztest(count, nobs, alternative='two-sided')\n",
    "stat, pvalue\n",
    "\n",
    "# same value as above, but using formula: ((p1-p2) -0) /se"
   ]
  },
  {
   "cell_type": "code",
   "execution_count": null,
   "metadata": {},
   "outputs": [],
   "source": []
  },
  {
   "cell_type": "code",
   "execution_count": null,
   "metadata": {},
   "outputs": [],
   "source": []
  },
  {
   "cell_type": "code",
   "execution_count": null,
   "metadata": {},
   "outputs": [],
   "source": []
  }
 ],
 "metadata": {
  "kernelspec": {
   "display_name": "Python 3",
   "language": "python",
   "name": "python3"
  },
  "language_info": {
   "codemirror_mode": {
    "name": "ipython",
    "version": 3
   },
   "file_extension": ".py",
   "mimetype": "text/x-python",
   "name": "python",
   "nbconvert_exporter": "python",
   "pygments_lexer": "ipython3",
   "version": "3.7.4"
  }
 },
 "nbformat": 4,
 "nbformat_minor": 2
}
