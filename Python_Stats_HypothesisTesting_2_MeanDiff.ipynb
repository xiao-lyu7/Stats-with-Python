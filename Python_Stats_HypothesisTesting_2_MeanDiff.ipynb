{
 "cells": [
  {
   "cell_type": "markdown",
   "metadata": {},
   "source": [
    "# Python Stats HypothesisTesting - Test of Mean Differences"
   ]
  },
  {
   "cell_type": "markdown",
   "metadata": {},
   "source": [
    "## Cases of Hypothesis testing of difference between means"
   ]
  },
  {
   "cell_type": "code",
   "execution_count": 1,
   "metadata": {},
   "outputs": [],
   "source": [
    "# import libraries\n",
    "import pandas as pd\n",
    "import numpy as np\n",
    "import seaborn as sns\n",
    "import matplotlib.pyplot as plt\n",
    "import statsmodels.api as sm\n",
    "import scipy.stats.distributions as dist\n",
    "from scipy import stats\n",
    "\n",
    "import warnings\n",
    "warnings.filterwarnings('ignore')\n",
    "\n",
    "# set maximum columns display as 50\n",
    "pd.set_option('display.max_columns',50) \n",
    "\n",
    "%matplotlib inline"
   ]
  },
  {
   "cell_type": "code",
   "execution_count": 2,
   "metadata": {},
   "outputs": [
    {
     "data": {
      "text/html": [
       "<div>\n",
       "<style scoped>\n",
       "    .dataframe tbody tr th:only-of-type {\n",
       "        vertical-align: middle;\n",
       "    }\n",
       "\n",
       "    .dataframe tbody tr th {\n",
       "        vertical-align: top;\n",
       "    }\n",
       "\n",
       "    .dataframe thead th {\n",
       "        text-align: right;\n",
       "    }\n",
       "</style>\n",
       "<table border=\"1\" class=\"dataframe\">\n",
       "  <thead>\n",
       "    <tr style=\"text-align: right;\">\n",
       "      <th></th>\n",
       "      <th>Id</th>\n",
       "      <th>EmployeeName</th>\n",
       "      <th>JobTitle</th>\n",
       "      <th>BasePay</th>\n",
       "      <th>OvertimePay</th>\n",
       "      <th>OtherPay</th>\n",
       "      <th>Benefits</th>\n",
       "      <th>TotalPay</th>\n",
       "      <th>TotalPayBenefits</th>\n",
       "      <th>Year</th>\n",
       "      <th>Notes</th>\n",
       "      <th>Agency</th>\n",
       "      <th>Status</th>\n",
       "    </tr>\n",
       "  </thead>\n",
       "  <tbody>\n",
       "    <tr>\n",
       "      <td>0</td>\n",
       "      <td>1</td>\n",
       "      <td>NATHANIEL FORD</td>\n",
       "      <td>GENERAL MANAGER-METROPOLITAN TRANSIT AUTHORITY</td>\n",
       "      <td>167411.18</td>\n",
       "      <td>0.00</td>\n",
       "      <td>400184.25</td>\n",
       "      <td>NaN</td>\n",
       "      <td>567595.43</td>\n",
       "      <td>567595.43</td>\n",
       "      <td>2011</td>\n",
       "      <td>NaN</td>\n",
       "      <td>San Francisco</td>\n",
       "      <td>NaN</td>\n",
       "    </tr>\n",
       "    <tr>\n",
       "      <td>1</td>\n",
       "      <td>2</td>\n",
       "      <td>GARY JIMENEZ</td>\n",
       "      <td>CAPTAIN III (POLICE DEPARTMENT)</td>\n",
       "      <td>155966.02</td>\n",
       "      <td>245131.88</td>\n",
       "      <td>137811.38</td>\n",
       "      <td>NaN</td>\n",
       "      <td>538909.28</td>\n",
       "      <td>538909.28</td>\n",
       "      <td>2011</td>\n",
       "      <td>NaN</td>\n",
       "      <td>San Francisco</td>\n",
       "      <td>NaN</td>\n",
       "    </tr>\n",
       "    <tr>\n",
       "      <td>2</td>\n",
       "      <td>3</td>\n",
       "      <td>ALBERT PARDINI</td>\n",
       "      <td>CAPTAIN III (POLICE DEPARTMENT)</td>\n",
       "      <td>212739.13</td>\n",
       "      <td>106088.18</td>\n",
       "      <td>16452.60</td>\n",
       "      <td>NaN</td>\n",
       "      <td>335279.91</td>\n",
       "      <td>335279.91</td>\n",
       "      <td>2011</td>\n",
       "      <td>NaN</td>\n",
       "      <td>San Francisco</td>\n",
       "      <td>NaN</td>\n",
       "    </tr>\n",
       "    <tr>\n",
       "      <td>3</td>\n",
       "      <td>4</td>\n",
       "      <td>CHRISTOPHER CHONG</td>\n",
       "      <td>WIRE ROPE CABLE MAINTENANCE MECHANIC</td>\n",
       "      <td>77916.00</td>\n",
       "      <td>56120.71</td>\n",
       "      <td>198306.90</td>\n",
       "      <td>NaN</td>\n",
       "      <td>332343.61</td>\n",
       "      <td>332343.61</td>\n",
       "      <td>2011</td>\n",
       "      <td>NaN</td>\n",
       "      <td>San Francisco</td>\n",
       "      <td>NaN</td>\n",
       "    </tr>\n",
       "    <tr>\n",
       "      <td>4</td>\n",
       "      <td>5</td>\n",
       "      <td>PATRICK GARDNER</td>\n",
       "      <td>DEPUTY CHIEF OF DEPARTMENT,(FIRE DEPARTMENT)</td>\n",
       "      <td>134401.60</td>\n",
       "      <td>9737.00</td>\n",
       "      <td>182234.59</td>\n",
       "      <td>NaN</td>\n",
       "      <td>326373.19</td>\n",
       "      <td>326373.19</td>\n",
       "      <td>2011</td>\n",
       "      <td>NaN</td>\n",
       "      <td>San Francisco</td>\n",
       "      <td>NaN</td>\n",
       "    </tr>\n",
       "  </tbody>\n",
       "</table>\n",
       "</div>"
      ],
      "text/plain": [
       "   Id       EmployeeName                                        JobTitle  \\\n",
       "0   1     NATHANIEL FORD  GENERAL MANAGER-METROPOLITAN TRANSIT AUTHORITY   \n",
       "1   2       GARY JIMENEZ                 CAPTAIN III (POLICE DEPARTMENT)   \n",
       "2   3     ALBERT PARDINI                 CAPTAIN III (POLICE DEPARTMENT)   \n",
       "3   4  CHRISTOPHER CHONG            WIRE ROPE CABLE MAINTENANCE MECHANIC   \n",
       "4   5    PATRICK GARDNER    DEPUTY CHIEF OF DEPARTMENT,(FIRE DEPARTMENT)   \n",
       "\n",
       "     BasePay  OvertimePay   OtherPay  Benefits   TotalPay  TotalPayBenefits  \\\n",
       "0  167411.18         0.00  400184.25       NaN  567595.43         567595.43   \n",
       "1  155966.02    245131.88  137811.38       NaN  538909.28         538909.28   \n",
       "2  212739.13    106088.18   16452.60       NaN  335279.91         335279.91   \n",
       "3   77916.00     56120.71  198306.90       NaN  332343.61         332343.61   \n",
       "4  134401.60      9737.00  182234.59       NaN  326373.19         326373.19   \n",
       "\n",
       "   Year  Notes         Agency  Status  \n",
       "0  2011    NaN  San Francisco     NaN  \n",
       "1  2011    NaN  San Francisco     NaN  \n",
       "2  2011    NaN  San Francisco     NaN  \n",
       "3  2011    NaN  San Francisco     NaN  \n",
       "4  2011    NaN  San Francisco     NaN  "
      ]
     },
     "execution_count": 2,
     "metadata": {},
     "output_type": "execute_result"
    }
   ],
   "source": [
    "# import the dataset\n",
    "df = pd.read_csv('Salaries.csv', )\n",
    "df.head()\n",
    "\n",
    "# this dataset shows the salary information for workers in SF"
   ]
  },
  {
   "cell_type": "code",
   "execution_count": 3,
   "metadata": {},
   "outputs": [
    {
     "data": {
      "text/plain": [
       "(148654, 13)"
      ]
     },
     "execution_count": 3,
     "metadata": {},
     "output_type": "execute_result"
    }
   ],
   "source": [
    "# check the size of the dataset\n",
    "df.shape"
   ]
  },
  {
   "cell_type": "code",
   "execution_count": 4,
   "metadata": {},
   "outputs": [
    {
     "data": {
      "text/plain": [
       "Id                       0\n",
       "EmployeeName             0\n",
       "JobTitle                 0\n",
       "BasePay                609\n",
       "OvertimePay              4\n",
       "OtherPay                 4\n",
       "Benefits             36163\n",
       "TotalPay                 0\n",
       "TotalPayBenefits         0\n",
       "Year                     0\n",
       "Notes               148654\n",
       "Agency                   0\n",
       "Status              148654\n",
       "dtype: int64"
      ]
     },
     "execution_count": 4,
     "metadata": {},
     "output_type": "execute_result"
    }
   ],
   "source": [
    "# check missing values\n",
    "df.isnull().sum()\n",
    "\n",
    "# no missing values in total pay and year"
   ]
  },
  {
   "cell_type": "code",
   "execution_count": 5,
   "metadata": {},
   "outputs": [
    {
     "data": {
      "text/plain": [
       "(148654, 11)"
      ]
     },
     "execution_count": 5,
     "metadata": {},
     "output_type": "execute_result"
    }
   ],
   "source": [
    "# drop null columns\n",
    "df.drop(['Notes','Status'], axis = 1, inplace = True)\n",
    "df.shape"
   ]
  },
  {
   "cell_type": "markdown",
   "metadata": {},
   "source": [
    "\n",
    "**Estimate population parameters:**\n",
    "- When we do hypothsis testing for population mean, we are trying to use data collected from samples to estimate population parameters (which we do not know).\n",
    "- So here, instead of Z-test statistics, we should use T-test statistics. \n",
    "\n",
    "**Compare Z and T tests:**\n",
    "- T distribution has **flatter tails** comparing to Z distribution. \n",
    "- T-stats adjusted the df(degrees of freedom), to reduce the varinace casued by using sample statistics to infer hypothesized population parameters \n",
    "- for T-distribution, df = n-1, not n\n",
    "- when n is very large, e.g. over 1000, the t distribution is very similar to Z distribution "
   ]
  },
  {
   "cell_type": "markdown",
   "metadata": {},
   "source": [
    "**In addition:**\n",
    "- in actual data analysis, we need to further examine missing values and find out potential reasons for missing.\n",
    "- here, we focus on showing the process of hypothesis testing."
   ]
  },
  {
   "cell_type": "markdown",
   "metadata": {},
   "source": [
    "## 1. hypothesis testing for one-sample test\n",
    "\n",
    "**Example Scenario:**\n",
    "\n",
    "- Assume we know that in 2014, the average total pay is $65,000 nationwide (in U.S.).\n",
    "\n",
    "- Here, we want to know:\n",
    "  - whether the average total pay among employees in SF is very different from the nationwide avgerage pay in 2014.  \n"
   ]
  },
  {
   "cell_type": "markdown",
   "metadata": {},
   "source": [
    "**Assumptions Checking:**\n",
    "- Assume data were randomly sampled from all employees in SF \n",
    "- Sample size here is big enough for ensuring nomality of data \n",
    "    - here the data is not normally distributed, but here we only aim to show how to calculate t-tests."
   ]
  },
  {
   "cell_type": "code",
   "execution_count": 6,
   "metadata": {},
   "outputs": [
    {
     "data": {
      "image/png": "[encoded data removed]",
      "text/plain": [
       "<Figure size 432x288 with 1 Axes>"
      ]
     },
     "metadata": {
      "needs_background": "light"
     },
     "output_type": "display_data"
    }
   ],
   "source": [
    "sns.distplot(df['TotalPay'][df['Year'] == 2014])\n",
    "sns.set(style=\"whitegrid\")\n",
    "plt.show()\n",
    "\n",
    "# not uni-modal; "
   ]
  },
  {
   "cell_type": "code",
   "execution_count": 7,
   "metadata": {},
   "outputs": [
    {
     "data": {
      "image/png": "[encoded data removed]",
      "text/plain": [
       "<Figure size 432x288 with 1 Axes>"
      ]
     },
     "metadata": {},
     "output_type": "display_data"
    }
   ],
   "source": [
    "# box plot\n",
    "sns.boxplot(df['TotalPay'][df['Year'] == 2014])\n",
    "plt.show()\n",
    "\n",
    "# the data overall skew to the right"
   ]
  },
  {
   "cell_type": "markdown",
   "metadata": {},
   "source": [
    "**Two-sided one-sample t-test:**\n",
    "\n",
    "\n",
    "Null Hypothesis (H0): m = μ0\n",
    "\n",
    "Alternative Hypothesis (H1): m != μ0 \n",
    "\n",
    " Set confidence level (alpha) at 95%"
   ]
  },
  {
   "cell_type": "code",
   "execution_count": 8,
   "metadata": {},
   "outputs": [
    {
     "data": {
      "text/plain": [
       "38070"
      ]
     },
     "execution_count": 8,
     "metadata": {},
     "output_type": "execute_result"
    }
   ],
   "source": [
    "# get a subset of data for year 2014\n",
    "sub_df = df['TotalPay'][(df['Year']== 2014) & (df['TotalPay'] > 0)]\n",
    "len(sub_df)"
   ]
  },
  {
   "cell_type": "code",
   "execution_count": 9,
   "metadata": {},
   "outputs": [
    {
     "data": {
      "text/plain": [
       "count     38070.00\n",
       "mean      75568.99\n",
       "std       51656.87\n",
       "min           1.83\n",
       "25%       33687.11\n",
       "50%       72413.84\n",
       "75%      108065.21\n",
       "max      471952.64\n",
       "Name: TotalPay, dtype: float64"
      ]
     },
     "execution_count": 9,
     "metadata": {},
     "output_type": "execute_result"
    }
   ],
   "source": [
    "# check the descriotive stats of titalpay in 2014\n",
    "sub_df.describe().round(2)\n"
   ]
  },
  {
   "cell_type": "markdown",
   "metadata": {},
   "source": [
    "### 1). mannual calculation\n",
    "\n",
    "- t = (best estimate - null estimate)/estimated standard error (se)\n",
    "    = (m - μ0)/se\n",
    "- se = sample standard deviation/ sqrt(n) "
   ]
  },
  {
   "cell_type": "code",
   "execution_count": 10,
   "metadata": {},
   "outputs": [
    {
     "data": {
      "text/plain": [
       "264.750432239159"
      ]
     },
     "execution_count": 10,
     "metadata": {},
     "output_type": "execute_result"
    }
   ],
   "source": [
    "# calculate estimated standard error \n",
    "se = sub_df.std()/np.sqrt(sub_df.shape[0])\n",
    "se"
   ]
  },
  {
   "cell_type": "code",
   "execution_count": 11,
   "metadata": {},
   "outputs": [
    {
     "data": {
      "text/plain": [
       "39.920588854429724"
      ]
     },
     "execution_count": 11,
     "metadata": {},
     "output_type": "execute_result"
    }
   ],
   "source": [
    "# calculate t score\n",
    "mu = 65000\n",
    "t = (sub_df.mean() - 65000)/se\n",
    "t"
   ]
  },
  {
   "cell_type": "code",
   "execution_count": 12,
   "metadata": {},
   "outputs": [
    {
     "data": {
      "text/plain": [
       "(39.920588854429724, 0.0)"
      ]
     },
     "execution_count": 12,
     "metadata": {},
     "output_type": "execute_result"
    }
   ],
   "source": [
    "# calculate p-value\n",
    "pvalue = 2*dist.norm.cdf(-np.abs(t))\n",
    "t, pvalue\n",
    "\n",
    "# p < 0.05, reject null"
   ]
  },
  {
   "cell_type": "markdown",
   "metadata": {},
   "source": [
    "**Conclusion:**\n",
    "- With 95% confidence level, I found that there is a significant difference between the average total pay employees received in SF in 2014 and the nationwide average total pay. \n",
    "- And that the average total pay employees received in SF is significantly higher than the nationwide average total pay in the same year."
   ]
  },
  {
   "cell_type": "markdown",
   "metadata": {},
   "source": [
    "### 2). built-in statsmodels\n",
    "\n",
    "**For one-sample t-test:**\n",
    "  \n",
    "- scipy.stats.ttest_1samp (a, popmean, axis)\n",
    "    - a: sample observation (array format: could be a list or pd.Series)\n",
    "    - popmean: population mean\n",
    "    - axis: default = 0 (optional)"
   ]
  },
  {
   "cell_type": "code",
   "execution_count": 13,
   "metadata": {},
   "outputs": [
    {
     "data": {
      "text/plain": [
       "(39.92058885443079, 0.0)"
      ]
     },
     "execution_count": 13,
     "metadata": {},
     "output_type": "execute_result"
    }
   ],
   "source": [
    "# check t and p values\n",
    "t, pvalue = stats.ttest_1samp(sub_df, 65000)\n",
    "t, pvalue\n",
    "\n",
    "# same results as above # p < 0.05, reject null"
   ]
  },
  {
   "cell_type": "markdown",
   "metadata": {},
   "source": [
    "## 2. hypothesis testing two independent samples"
   ]
  },
  {
   "cell_type": "markdown",
   "metadata": {},
   "source": [
    "**Example Scenario:**\n",
    "\n",
    "- Assume we want to compare the differences in average total pay employees received in 2013, and 2014 in SF.  "
   ]
  },
  {
   "cell_type": "markdown",
   "metadata": {},
   "source": [
    "Null Hypothesis (H0): x1 = x2\n",
    "\n",
    "Alternative Hypothesis (H1): x1 != x2 \n",
    "\n",
    "Set confidence level (alpha) at 95%"
   ]
  },
  {
   "cell_type": "markdown",
   "metadata": {},
   "source": [
    "**two sample mean difference:**\n",
    "\n",
    "- 1. assume both samples have the same variance (Pooled Approach)\n",
    "\n",
    "    - t = (best estimate - null estimate)/estimated standard error (se)\n",
    "      = (x1-x2)/ sp(1/n1 + 1/n2)\n",
    "    - se = Sp(1/n1 + 1/n2)\n",
    "    - Sp = sqrt( ( (n1-1)s1^2 + (n2-1)s2^2 ) / (n1+n2-2) ): s - sample std\n",
    "    - df = n1 + n2 -2\n",
    "\n",
    "\n",
    "- 2. assume both samples have different variance (Unpooled Approach)\n",
    "\n",
    "    - t = (best estimate - null estimate)/estimated standard error (se)\n",
    "      = (x1-x2)/ se\n",
    "    - se = sqrt(s1^2/n1 + s2^2/n)\n",
    "    - df = min(n1-1, n2 -1): df takes the smaller value between (n1-1) and (n2-1)\n",
    "\n",
    "\n",
    "**When n is small, use Wilcoxon Sign Rank test**"
   ]
  },
  {
   "cell_type": "code",
   "execution_count": 14,
   "metadata": {},
   "outputs": [
    {
     "name": "stdout",
     "output_type": "stream",
     "text": [
      "37318\n",
      "38070\n"
     ]
    }
   ],
   "source": [
    "# get subset of data for total pay in 2013, 2014\n",
    "sub_df13 = df['TotalPay'][(df['Year']== 2013) & (df['TotalPay'] > 0)]\n",
    "sub_df14 = df['TotalPay'][(df['Year']== 2014) & (df['TotalPay'] > 0)]\n",
    "print(len(sub_df13))\n",
    "print(len(sub_df14))"
   ]
  },
  {
   "cell_type": "code",
   "execution_count": 15,
   "metadata": {},
   "outputs": [
    {
     "name": "stdout",
     "output_type": "stream",
     "text": [
      "count     37318.000000\n",
      "mean      78210.405992\n",
      "std       52615.027374\n",
      "min           5.560000\n",
      "25%       38321.582500\n",
      "50%       74874.610000\n",
      "75%      110147.012500\n",
      "max      347102.320000\n",
      "Name: TotalPay, dtype: float64\n",
      "count     38070.000000\n",
      "mean      75568.993154\n",
      "std       51656.873381\n",
      "min           1.830000\n",
      "25%       33687.107500\n",
      "50%       72413.840000\n",
      "75%      108065.210000\n",
      "max      471952.640000\n",
      "Name: TotalPay, dtype: float64\n"
     ]
    }
   ],
   "source": [
    "# check the variance for both sets of data\n",
    "print(sub_df13.describe())\n",
    "print(sub_df14.describe())"
   ]
  },
  {
   "cell_type": "code",
   "execution_count": 16,
   "metadata": {},
   "outputs": [
    {
     "data": {
      "image/png": "[encoded data removed]",
      "text/plain": [
       "<Figure size 432x288 with 1 Axes>"
      ]
     },
     "metadata": {},
     "output_type": "display_data"
    }
   ],
   "source": [
    "# check boxplot\n",
    "sns.boxplot(sub_df13)\n",
    "plt.show()"
   ]
  },
  {
   "cell_type": "code",
   "execution_count": 17,
   "metadata": {},
   "outputs": [
    {
     "data": {
      "text/plain": [
       "<matplotlib.axes._subplots.AxesSubplot at 0x1c164f9d10>"
      ]
     },
     "execution_count": 17,
     "metadata": {},
     "output_type": "execute_result"
    },
    {
     "data": {
      "image/png": "[encoded data removed]",
      "text/plain": [
       "<Figure size 432x288 with 1 Axes>"
      ]
     },
     "metadata": {},
     "output_type": "display_data"
    }
   ],
   "source": [
    "sns.boxplot(sub_df14)"
   ]
  },
  {
   "cell_type": "markdown",
   "metadata": {},
   "source": [
    "Here we still can see a difference in the data, so we take the **unpooled appraoch - assume unequal variance**"
   ]
  },
  {
   "cell_type": "markdown",
   "metadata": {},
   "source": [
    "### 1). mannual calculation\n",
    "\n",
    "- t = (best estimate - null estimate)/estimated standard error (se)\n",
    "     = (x1-x2)/ se\n",
    "- se = sqrt(s1^2/n1 + s2^2/n)\n",
    "- df = min(n1-1, n2 -1): df takes the smaller value between (n1-1) and (n2-1)"
   ]
  },
  {
   "cell_type": "code",
   "execution_count": 18,
   "metadata": {},
   "outputs": [
    {
     "data": {
      "text/plain": [
       "379.83582383158955"
      ]
     },
     "execution_count": 18,
     "metadata": {},
     "output_type": "execute_result"
    }
   ],
   "source": [
    "# calculate estimated standard error\n",
    "s1 = sub_df13.std()\n",
    "n1 = len(sub_df13)\n",
    "s2 = sub_df14.std()\n",
    "n2 = len(sub_df14)\n",
    "se = np.sqrt(s1**2/n1 + s2**2/n2)\n",
    "se"
   ]
  },
  {
   "cell_type": "code",
   "execution_count": 19,
   "metadata": {},
   "outputs": [
    {
     "data": {
      "text/plain": [
       "6.954090877083771"
      ]
     },
     "execution_count": 19,
     "metadata": {},
     "output_type": "execute_result"
    }
   ],
   "source": [
    "# calculate t score\n",
    "x1 = sub_df13.mean()\n",
    "x2 = sub_df14.mean()\n",
    "t = (x1-x2)/se\n",
    "t"
   ]
  },
  {
   "cell_type": "code",
   "execution_count": 20,
   "metadata": {},
   "outputs": [
    {
     "data": {
      "text/plain": [
       "(6.954090877083771, 3.548428230756511e-12)"
      ]
     },
     "execution_count": 20,
     "metadata": {},
     "output_type": "execute_result"
    }
   ],
   "source": [
    "# calculate p-value\n",
    "pvalue = 2*dist.norm.cdf(-np.abs(t))\n",
    "t, pvalue\n",
    "\n",
    "# p < 0.05, reject null"
   ]
  },
  {
   "cell_type": "markdown",
   "metadata": {},
   "source": [
    "**Conclusion:**\n",
    "- With 95% confidence level, I found that there is a significant difference between the average total pay employees received in 2013 and 2014 in SF. \n",
    "- And that the average total pay employees received in 2013 is significantly higher than that of 2014 in SF."
   ]
  },
  {
   "cell_type": "markdown",
   "metadata": {},
   "source": [
    "### 2). built-in statsmodels\n",
    "\n",
    "**For two-sample t-test:**\n",
    "  \n",
    "- scipy.stats.ttest_ind(a, b, equal_var ) \n",
    "(https://docs.scipy.org/doc/scipy/reference/generated/scipy.stats.ttest_ind.html)\n",
    "\n",
    "    - a, b: sample observation (array format: could be a list or pd.Series)\n",
    "    - equal_var: Boolean - True or False"
   ]
  },
  {
   "cell_type": "code",
   "execution_count": 21,
   "metadata": {},
   "outputs": [
    {
     "data": {
      "text/plain": [
       "(6.9540908770770065, 3.5772222865934194e-12)"
      ]
     },
     "execution_count": 21,
     "metadata": {},
     "output_type": "execute_result"
    }
   ],
   "source": [
    "t, pvalue = stats.ttest_ind(sub_df13, sub_df14, equal_var = False)\n",
    "t, pvalue\n",
    "\n",
    "# same reults as above"
   ]
  },
  {
   "cell_type": "markdown",
   "metadata": {},
   "source": [
    "## 3. hypothesis testing for difference in means for paired data"
   ]
  },
  {
   "cell_type": "markdown",
   "metadata": {},
   "source": [
    "**For insatnce: repreated measures on the same object (pre-post surveys etc.)**\n",
    "\n",
    "Null Hypothesis (H0): x1 - x2 = 0\n",
    "\n",
    "Alternative Hypothesis (H1): x1 - x2 != 0 \n",
    "\n",
    "Set confidence level (alpha) at 95%"
   ]
  },
  {
   "cell_type": "markdown",
   "metadata": {},
   "source": [
    "**calculation formula:**\n",
    "\n",
    "- t = (best estimate - null estimate)/estimated standard error (se)\n",
    "     = (xd)/ se\n",
    "- xd = x1-x2: difference in means\n",
    "- se = sd/ sqrt(n)\n"
   ]
  },
  {
   "cell_type": "markdown",
   "metadata": {},
   "source": [
    "**when use built-in statsmodels:**\n",
    "    \n",
    "t, pvalue = stats.ttest_ind(a, b, equal_var = boolean)\n",
    "- a, b: have to have the same shape or length\n"
   ]
  },
  {
   "cell_type": "code",
   "execution_count": null,
   "metadata": {},
   "outputs": [],
   "source": []
  },
  {
   "cell_type": "code",
   "execution_count": null,
   "metadata": {},
   "outputs": [],
   "source": []
  },
  {
   "cell_type": "code",
   "execution_count": null,
   "metadata": {},
   "outputs": [],
   "source": []
  }
 ],
 "metadata": {
  "kernelspec": {
   "display_name": "Python 3",
   "language": "python",
   "name": "python3"
  },
  "language_info": {
   "codemirror_mode": {
    "name": "ipython",
    "version": 3
   },
   "file_extension": ".py",
   "mimetype": "text/x-python",
   "name": "python",
   "nbconvert_exporter": "python",
   "pygments_lexer": "ipython3",
   "version": "3.7.4"
  }
 },
 "nbformat": 4,
 "nbformat_minor": 2
}
